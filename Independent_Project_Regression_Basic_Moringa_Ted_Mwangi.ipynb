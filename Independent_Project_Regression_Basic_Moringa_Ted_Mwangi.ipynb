{
  "nbformat": 4,
  "nbformat_minor": 0,
  "metadata": {
    "colab": {
      "name": "Independent Project Regression Basic Moringa Ted Mwangi",
      "provenance": [],
      "mount_file_id": "1V-Js766OYk75bHWfKD6uqDc1xVu4APA3",
      "authorship_tag": "ABX9TyPVngfS80j75962BTCSbkX6",
      "include_colab_link": true
    },
    "kernelspec": {
      "name": "python3",
      "display_name": "Python 3"
    },
    "language_info": {
      "name": "python"
    }
  },
  "cells": [
    {
      "cell_type": "markdown",
      "metadata": {
        "id": "view-in-github",
        "colab_type": "text"
      },
      "source": [
        "<a href=\"https://colab.research.google.com/github/DevTedd/Regression-Analysis-Moringa-Core-W6/blob/main/Independent_Project_Regression_Basic_Moringa_Ted_Mwangi.ipynb\" target=\"_parent\"><img src=\"https://colab.research.google.com/assets/colab-badge.svg\" alt=\"Open In Colab\"/></a>"
      ]
    },
    {
      "cell_type": "markdown",
      "metadata": {
        "id": "i6hoUC4tO7TU"
      },
      "source": [
        "# Overview \n",
        "\n",
        "You have been recruited as a football analyst in a company - Mchezopesa Ltd and tasked to accomplish the task below.\n",
        "\n",
        "A prediction result of a game between team 1 and team 2, based on who's home and who's away, and on whether or not the game is friendly (include rank in your training).\n",
        "\n",
        "You have two possible approaches (as  shown below) given the datasets that will be provided\n",
        "\n",
        "Input: Home team, Away team, Tournament type (World cup, Friendly, Other)\n",
        "\n",
        "# Approach 1: Polynomial approach\n",
        "\n",
        "What to train given:\n",
        "\n",
        "Rank of home team\n",
        "Rank of away team\n",
        "Tournament type\n",
        "\n",
        "\n",
        "**Model 1**: Predict how many goals the home team scores.\n",
        "\n",
        "**Model 2**: Predict how many goals the away team scores.\n",
        "\n",
        "Approach 2: Logistic approach\n",
        "\n",
        "Feature Engineering: Figure out from the home team’s perspective if the game is a Win, Lose or Draw (W, L, D)"
      ]
    },
    {
      "cell_type": "markdown",
      "metadata": {
        "id": "LTNIry77QdkB"
      },
      "source": [
        "# Dataset Columns\n",
        "\n",
        "\n",
        "\n",
        "* Rank\n",
        "* Country Abbreviation\n",
        "* Total Points\n",
        "* Previous Points\n",
        "* Rank Change\n",
        "* Average Previous Years Points\n",
        "* Average Previous Years Points Weighted (50%)\n",
        "* Average 2 Years Ago Points\n",
        "* Average 2 Years Ago Points Weighted (30%)\n",
        "* Average 3 Years Ago Points\n",
        "* Average 3 Years Ago Points Weighted (20%)\n",
        "* Confederation\n",
        "* Date - date of the match\n",
        "* Home_team - the name of the home team\n",
        "* Away_team - the name of the away team\n",
        "* Home_score - full-time home team score including extra time, not including penalty-shootouts\n",
        "* Away_score - full-time away team score including extra time, not including penalty-shootouts\n",
        "* Tournament - the name of the tournament\n",
        "* City - the name of the city/town/administrative unit where the match was played\n",
        "* Country - the name of the country where the match was played\n",
        "* Neutral - TRUE/FALSE column indicating whether the match was played at a neutral venue\n",
        "\n",
        "\n"
      ]
    },
    {
      "cell_type": "markdown",
      "metadata": {
        "id": "-ObGua8UT0kH"
      },
      "source": [
        "# 1. Defining the question\n",
        "\n",
        "\n",
        "\n",
        "\n"
      ]
    },
    {
      "cell_type": "markdown",
      "metadata": {
        "id": "ynHACSrfUP0u"
      },
      "source": [
        "# A) Specifying the questions \n",
        "\n",
        "\n",
        "\n",
        "\n",
        "*   Predict how many goals the home team scores.\n",
        "\n",
        "*   Predict how many goals the away team scores.\n",
        "\n",
        "*   Figure out from the home team’s perspective if the game is a Win, Lose or Draw (W, L, D)\n"
      ]
    },
    {
      "cell_type": "markdown",
      "metadata": {
        "id": "jfniHXiWUbVV"
      },
      "source": [
        "# B) Defining the metric for Success\n",
        "\n",
        "\n",
        "*  Model 1: Predict how many goals the home team scores.\n",
        "*  Model 2: Predict how many goals the away team scores.\n",
        "*   Model 3 : Being able to tell how the home team perfromed \n",
        "\n"
      ]
    },
    {
      "cell_type": "markdown",
      "metadata": {
        "id": "09ZQEG_BUQqW"
      },
      "source": [
        "# C) Understanding the context\n",
        "\n",
        "The datasets are derived from the Fifa World Rankings database for football games payed by men split into country teams. Its from 1993 to 2018 and can be confirmed by checking the results from the databse to those that are hosted online "
      ]
    },
    {
      "cell_type": "markdown",
      "metadata": {
        "id": "8tGxbqdMUpw3"
      },
      "source": [
        "# 2) Reading in the data"
      ]
    },
    {
      "cell_type": "code",
      "metadata": {
        "id": "yRfmyIUBIAJr"
      },
      "source": [
        "import pandas as pd\n",
        "import numpy as np\n",
        "import seaborn as sb\n"
      ],
      "execution_count": 1,
      "outputs": []
    },
    {
      "cell_type": "code",
      "metadata": {
        "id": "myHthu7mSueX"
      },
      "source": [
        "#Importing the dataset\n",
        "fifa = pd.read_csv('/content/drive/MyDrive/Week 6 IP/Week 6 IP Datasets/fifa_ranking.csv')\n",
        "results = pd.read_csv('/content/drive/MyDrive/Week 6 IP/Week 6 IP Datasets/results.csv')"
      ],
      "execution_count": 25,
      "outputs": []
    },
    {
      "cell_type": "code",
      "metadata": {
        "colab": {
          "base_uri": "https://localhost:8080/"
        },
        "id": "u36w0NuMTJNS",
        "outputId": "10905318-1de5-437f-e5b2-0f85ce4c4c97"
      },
      "source": [
        "#Seeing what is in the fifa set details\n",
        "fifa.shape"
      ],
      "execution_count": 4,
      "outputs": [
        {
          "output_type": "execute_result",
          "data": {
            "text/plain": [
              "(57793, 16)"
            ]
          },
          "metadata": {},
          "execution_count": 4
        }
      ]
    },
    {
      "cell_type": "code",
      "metadata": {
        "colab": {
          "base_uri": "https://localhost:8080/",
          "height": 307
        },
        "id": "Qg1xDmC2TSG6",
        "outputId": "be9ef43f-54f9-4519-b6d5-cd82f98446e0"
      },
      "source": [
        "#seeing the head of the fifa set\n",
        "fifa.head()"
      ],
      "execution_count": 14,
      "outputs": [
        {
          "output_type": "execute_result",
          "data": {
            "text/html": [
              "<div>\n",
              "<style scoped>\n",
              "    .dataframe tbody tr th:only-of-type {\n",
              "        vertical-align: middle;\n",
              "    }\n",
              "\n",
              "    .dataframe tbody tr th {\n",
              "        vertical-align: top;\n",
              "    }\n",
              "\n",
              "    .dataframe thead th {\n",
              "        text-align: right;\n",
              "    }\n",
              "</style>\n",
              "<table border=\"1\" class=\"dataframe\">\n",
              "  <thead>\n",
              "    <tr style=\"text-align: right;\">\n",
              "      <th></th>\n",
              "      <th>rank</th>\n",
              "      <th>country_full</th>\n",
              "      <th>country_abrv</th>\n",
              "      <th>total_points</th>\n",
              "      <th>previous_points</th>\n",
              "      <th>rank_change</th>\n",
              "      <th>cur_year_avg</th>\n",
              "      <th>cur_year_avg_weighted</th>\n",
              "      <th>last_year_avg</th>\n",
              "      <th>last_year_avg_weighted</th>\n",
              "      <th>two_year_ago_avg</th>\n",
              "      <th>two_year_ago_weighted</th>\n",
              "      <th>three_year_ago_avg</th>\n",
              "      <th>three_year_ago_weighted</th>\n",
              "      <th>confederation</th>\n",
              "      <th>rank_date</th>\n",
              "    </tr>\n",
              "  </thead>\n",
              "  <tbody>\n",
              "    <tr>\n",
              "      <th>0</th>\n",
              "      <td>1</td>\n",
              "      <td>Germany</td>\n",
              "      <td>GER</td>\n",
              "      <td>0.0</td>\n",
              "      <td>57</td>\n",
              "      <td>0</td>\n",
              "      <td>0.0</td>\n",
              "      <td>0.0</td>\n",
              "      <td>0.0</td>\n",
              "      <td>0.0</td>\n",
              "      <td>0.0</td>\n",
              "      <td>0.0</td>\n",
              "      <td>0.0</td>\n",
              "      <td>0.0</td>\n",
              "      <td>UEFA</td>\n",
              "      <td>1993-08-08</td>\n",
              "    </tr>\n",
              "    <tr>\n",
              "      <th>1</th>\n",
              "      <td>2</td>\n",
              "      <td>Italy</td>\n",
              "      <td>ITA</td>\n",
              "      <td>0.0</td>\n",
              "      <td>57</td>\n",
              "      <td>0</td>\n",
              "      <td>0.0</td>\n",
              "      <td>0.0</td>\n",
              "      <td>0.0</td>\n",
              "      <td>0.0</td>\n",
              "      <td>0.0</td>\n",
              "      <td>0.0</td>\n",
              "      <td>0.0</td>\n",
              "      <td>0.0</td>\n",
              "      <td>UEFA</td>\n",
              "      <td>1993-08-08</td>\n",
              "    </tr>\n",
              "    <tr>\n",
              "      <th>2</th>\n",
              "      <td>3</td>\n",
              "      <td>Switzerland</td>\n",
              "      <td>SUI</td>\n",
              "      <td>0.0</td>\n",
              "      <td>50</td>\n",
              "      <td>9</td>\n",
              "      <td>0.0</td>\n",
              "      <td>0.0</td>\n",
              "      <td>0.0</td>\n",
              "      <td>0.0</td>\n",
              "      <td>0.0</td>\n",
              "      <td>0.0</td>\n",
              "      <td>0.0</td>\n",
              "      <td>0.0</td>\n",
              "      <td>UEFA</td>\n",
              "      <td>1993-08-08</td>\n",
              "    </tr>\n",
              "    <tr>\n",
              "      <th>3</th>\n",
              "      <td>4</td>\n",
              "      <td>Sweden</td>\n",
              "      <td>SWE</td>\n",
              "      <td>0.0</td>\n",
              "      <td>55</td>\n",
              "      <td>0</td>\n",
              "      <td>0.0</td>\n",
              "      <td>0.0</td>\n",
              "      <td>0.0</td>\n",
              "      <td>0.0</td>\n",
              "      <td>0.0</td>\n",
              "      <td>0.0</td>\n",
              "      <td>0.0</td>\n",
              "      <td>0.0</td>\n",
              "      <td>UEFA</td>\n",
              "      <td>1993-08-08</td>\n",
              "    </tr>\n",
              "    <tr>\n",
              "      <th>4</th>\n",
              "      <td>5</td>\n",
              "      <td>Argentina</td>\n",
              "      <td>ARG</td>\n",
              "      <td>0.0</td>\n",
              "      <td>51</td>\n",
              "      <td>5</td>\n",
              "      <td>0.0</td>\n",
              "      <td>0.0</td>\n",
              "      <td>0.0</td>\n",
              "      <td>0.0</td>\n",
              "      <td>0.0</td>\n",
              "      <td>0.0</td>\n",
              "      <td>0.0</td>\n",
              "      <td>0.0</td>\n",
              "      <td>CONMEBOL</td>\n",
              "      <td>1993-08-08</td>\n",
              "    </tr>\n",
              "  </tbody>\n",
              "</table>\n",
              "</div>"
            ],
            "text/plain": [
              "   rank country_full  ... confederation   rank_date\n",
              "0     1      Germany  ...          UEFA  1993-08-08\n",
              "1     2        Italy  ...          UEFA  1993-08-08\n",
              "2     3  Switzerland  ...          UEFA  1993-08-08\n",
              "3     4       Sweden  ...          UEFA  1993-08-08\n",
              "4     5    Argentina  ...      CONMEBOL  1993-08-08\n",
              "\n",
              "[5 rows x 16 columns]"
            ]
          },
          "metadata": {},
          "execution_count": 14
        }
      ]
    },
    {
      "cell_type": "code",
      "metadata": {
        "colab": {
          "base_uri": "https://localhost:8080/",
          "height": 307
        },
        "id": "Ca_LS2yITYVe",
        "outputId": "095761b8-fc05-4893-919a-c8bfca96a71a"
      },
      "source": [
        "#seeing the tail\n",
        "fifa.tail()"
      ],
      "execution_count": 6,
      "outputs": [
        {
          "output_type": "execute_result",
          "data": {
            "text/html": [
              "<div>\n",
              "<style scoped>\n",
              "    .dataframe tbody tr th:only-of-type {\n",
              "        vertical-align: middle;\n",
              "    }\n",
              "\n",
              "    .dataframe tbody tr th {\n",
              "        vertical-align: top;\n",
              "    }\n",
              "\n",
              "    .dataframe thead th {\n",
              "        text-align: right;\n",
              "    }\n",
              "</style>\n",
              "<table border=\"1\" class=\"dataframe\">\n",
              "  <thead>\n",
              "    <tr style=\"text-align: right;\">\n",
              "      <th></th>\n",
              "      <th>rank</th>\n",
              "      <th>country_full</th>\n",
              "      <th>country_abrv</th>\n",
              "      <th>total_points</th>\n",
              "      <th>previous_points</th>\n",
              "      <th>rank_change</th>\n",
              "      <th>cur_year_avg</th>\n",
              "      <th>cur_year_avg_weighted</th>\n",
              "      <th>last_year_avg</th>\n",
              "      <th>last_year_avg_weighted</th>\n",
              "      <th>two_year_ago_avg</th>\n",
              "      <th>two_year_ago_weighted</th>\n",
              "      <th>three_year_ago_avg</th>\n",
              "      <th>three_year_ago_weighted</th>\n",
              "      <th>confederation</th>\n",
              "      <th>rank_date</th>\n",
              "    </tr>\n",
              "  </thead>\n",
              "  <tbody>\n",
              "    <tr>\n",
              "      <th>57788</th>\n",
              "      <td>206</td>\n",
              "      <td>Anguilla</td>\n",
              "      <td>AIA</td>\n",
              "      <td>0.0</td>\n",
              "      <td>0</td>\n",
              "      <td>1</td>\n",
              "      <td>0.0</td>\n",
              "      <td>0.0</td>\n",
              "      <td>0.0</td>\n",
              "      <td>0.0</td>\n",
              "      <td>0.0</td>\n",
              "      <td>0.0</td>\n",
              "      <td>0.0</td>\n",
              "      <td>0.0</td>\n",
              "      <td>CONCACAF</td>\n",
              "      <td>2018-06-07</td>\n",
              "    </tr>\n",
              "    <tr>\n",
              "      <th>57789</th>\n",
              "      <td>206</td>\n",
              "      <td>Bahamas</td>\n",
              "      <td>BAH</td>\n",
              "      <td>0.0</td>\n",
              "      <td>0</td>\n",
              "      <td>1</td>\n",
              "      <td>0.0</td>\n",
              "      <td>0.0</td>\n",
              "      <td>0.0</td>\n",
              "      <td>0.0</td>\n",
              "      <td>0.0</td>\n",
              "      <td>0.0</td>\n",
              "      <td>0.0</td>\n",
              "      <td>0.0</td>\n",
              "      <td>CONCACAF</td>\n",
              "      <td>2018-06-07</td>\n",
              "    </tr>\n",
              "    <tr>\n",
              "      <th>57790</th>\n",
              "      <td>206</td>\n",
              "      <td>Eritrea</td>\n",
              "      <td>ERI</td>\n",
              "      <td>0.0</td>\n",
              "      <td>0</td>\n",
              "      <td>1</td>\n",
              "      <td>0.0</td>\n",
              "      <td>0.0</td>\n",
              "      <td>0.0</td>\n",
              "      <td>0.0</td>\n",
              "      <td>0.0</td>\n",
              "      <td>0.0</td>\n",
              "      <td>0.0</td>\n",
              "      <td>0.0</td>\n",
              "      <td>CAF</td>\n",
              "      <td>2018-06-07</td>\n",
              "    </tr>\n",
              "    <tr>\n",
              "      <th>57791</th>\n",
              "      <td>206</td>\n",
              "      <td>Somalia</td>\n",
              "      <td>SOM</td>\n",
              "      <td>0.0</td>\n",
              "      <td>0</td>\n",
              "      <td>1</td>\n",
              "      <td>0.0</td>\n",
              "      <td>0.0</td>\n",
              "      <td>0.0</td>\n",
              "      <td>0.0</td>\n",
              "      <td>0.0</td>\n",
              "      <td>0.0</td>\n",
              "      <td>0.0</td>\n",
              "      <td>0.0</td>\n",
              "      <td>CAF</td>\n",
              "      <td>2018-06-07</td>\n",
              "    </tr>\n",
              "    <tr>\n",
              "      <th>57792</th>\n",
              "      <td>206</td>\n",
              "      <td>Tonga</td>\n",
              "      <td>TGA</td>\n",
              "      <td>0.0</td>\n",
              "      <td>0</td>\n",
              "      <td>1</td>\n",
              "      <td>0.0</td>\n",
              "      <td>0.0</td>\n",
              "      <td>0.0</td>\n",
              "      <td>0.0</td>\n",
              "      <td>0.0</td>\n",
              "      <td>0.0</td>\n",
              "      <td>0.0</td>\n",
              "      <td>0.0</td>\n",
              "      <td>OFC</td>\n",
              "      <td>2018-06-07</td>\n",
              "    </tr>\n",
              "  </tbody>\n",
              "</table>\n",
              "</div>"
            ],
            "text/plain": [
              "       rank country_full  ... confederation   rank_date\n",
              "57788   206     Anguilla  ...      CONCACAF  2018-06-07\n",
              "57789   206      Bahamas  ...      CONCACAF  2018-06-07\n",
              "57790   206      Eritrea  ...           CAF  2018-06-07\n",
              "57791   206      Somalia  ...           CAF  2018-06-07\n",
              "57792   206        Tonga  ...           OFC  2018-06-07\n",
              "\n",
              "[5 rows x 16 columns]"
            ]
          },
          "metadata": {},
          "execution_count": 6
        }
      ]
    },
    {
      "cell_type": "code",
      "metadata": {
        "colab": {
          "base_uri": "https://localhost:8080/"
        },
        "id": "fkUKl_fsTbRN",
        "outputId": "39150512-20e2-4ffa-d829-cb897b865728"
      },
      "source": [
        "fifa.info()"
      ],
      "execution_count": 7,
      "outputs": [
        {
          "output_type": "stream",
          "name": "stdout",
          "text": [
            "<class 'pandas.core.frame.DataFrame'>\n",
            "RangeIndex: 57793 entries, 0 to 57792\n",
            "Data columns (total 16 columns):\n",
            " #   Column                   Non-Null Count  Dtype  \n",
            "---  ------                   --------------  -----  \n",
            " 0   rank                     57793 non-null  int64  \n",
            " 1   country_full             57793 non-null  object \n",
            " 2   country_abrv             57793 non-null  object \n",
            " 3   total_points             57793 non-null  float64\n",
            " 4   previous_points          57793 non-null  int64  \n",
            " 5   rank_change              57793 non-null  int64  \n",
            " 6   cur_year_avg             57793 non-null  float64\n",
            " 7   cur_year_avg_weighted    57793 non-null  float64\n",
            " 8   last_year_avg            57793 non-null  float64\n",
            " 9   last_year_avg_weighted   57793 non-null  float64\n",
            " 10  two_year_ago_avg         57793 non-null  float64\n",
            " 11  two_year_ago_weighted    57793 non-null  float64\n",
            " 12  three_year_ago_avg       57793 non-null  float64\n",
            " 13  three_year_ago_weighted  57793 non-null  float64\n",
            " 14  confederation            57793 non-null  object \n",
            " 15  rank_date                57793 non-null  object \n",
            "dtypes: float64(9), int64(3), object(4)\n",
            "memory usage: 7.1+ MB\n"
          ]
        }
      ]
    },
    {
      "cell_type": "code",
      "metadata": {
        "colab": {
          "base_uri": "https://localhost:8080/",
          "height": 315
        },
        "id": "puy1hrjWTehu",
        "outputId": "a067984e-a6de-4fef-8ea5-45b0315d5a49"
      },
      "source": [
        "fifa.describe()"
      ],
      "execution_count": 8,
      "outputs": [
        {
          "output_type": "execute_result",
          "data": {
            "text/html": [
              "<div>\n",
              "<style scoped>\n",
              "    .dataframe tbody tr th:only-of-type {\n",
              "        vertical-align: middle;\n",
              "    }\n",
              "\n",
              "    .dataframe tbody tr th {\n",
              "        vertical-align: top;\n",
              "    }\n",
              "\n",
              "    .dataframe thead th {\n",
              "        text-align: right;\n",
              "    }\n",
              "</style>\n",
              "<table border=\"1\" class=\"dataframe\">\n",
              "  <thead>\n",
              "    <tr style=\"text-align: right;\">\n",
              "      <th></th>\n",
              "      <th>rank</th>\n",
              "      <th>total_points</th>\n",
              "      <th>previous_points</th>\n",
              "      <th>rank_change</th>\n",
              "      <th>cur_year_avg</th>\n",
              "      <th>cur_year_avg_weighted</th>\n",
              "      <th>last_year_avg</th>\n",
              "      <th>last_year_avg_weighted</th>\n",
              "      <th>two_year_ago_avg</th>\n",
              "      <th>two_year_ago_weighted</th>\n",
              "      <th>three_year_ago_avg</th>\n",
              "      <th>three_year_ago_weighted</th>\n",
              "    </tr>\n",
              "  </thead>\n",
              "  <tbody>\n",
              "    <tr>\n",
              "      <th>count</th>\n",
              "      <td>57793.000000</td>\n",
              "      <td>57793.000000</td>\n",
              "      <td>57793.000000</td>\n",
              "      <td>57793.000000</td>\n",
              "      <td>57793.000000</td>\n",
              "      <td>57793.000000</td>\n",
              "      <td>57793.000000</td>\n",
              "      <td>57793.000000</td>\n",
              "      <td>57793.000000</td>\n",
              "      <td>57793.000000</td>\n",
              "      <td>57793.000000</td>\n",
              "      <td>57793.000000</td>\n",
              "    </tr>\n",
              "    <tr>\n",
              "      <th>mean</th>\n",
              "      <td>101.628086</td>\n",
              "      <td>122.068637</td>\n",
              "      <td>332.302926</td>\n",
              "      <td>-0.009897</td>\n",
              "      <td>61.798602</td>\n",
              "      <td>61.798602</td>\n",
              "      <td>61.004602</td>\n",
              "      <td>30.502377</td>\n",
              "      <td>59.777462</td>\n",
              "      <td>17.933277</td>\n",
              "      <td>59.173916</td>\n",
              "      <td>11.834811</td>\n",
              "    </tr>\n",
              "    <tr>\n",
              "      <th>std</th>\n",
              "      <td>58.618424</td>\n",
              "      <td>260.426863</td>\n",
              "      <td>302.872948</td>\n",
              "      <td>5.804309</td>\n",
              "      <td>138.014883</td>\n",
              "      <td>138.014883</td>\n",
              "      <td>137.688204</td>\n",
              "      <td>68.844143</td>\n",
              "      <td>136.296079</td>\n",
              "      <td>40.888849</td>\n",
              "      <td>135.533343</td>\n",
              "      <td>27.106675</td>\n",
              "    </tr>\n",
              "    <tr>\n",
              "      <th>min</th>\n",
              "      <td>1.000000</td>\n",
              "      <td>0.000000</td>\n",
              "      <td>0.000000</td>\n",
              "      <td>-72.000000</td>\n",
              "      <td>0.000000</td>\n",
              "      <td>0.000000</td>\n",
              "      <td>0.000000</td>\n",
              "      <td>0.000000</td>\n",
              "      <td>0.000000</td>\n",
              "      <td>0.000000</td>\n",
              "      <td>0.000000</td>\n",
              "      <td>0.000000</td>\n",
              "    </tr>\n",
              "    <tr>\n",
              "      <th>25%</th>\n",
              "      <td>51.000000</td>\n",
              "      <td>0.000000</td>\n",
              "      <td>56.000000</td>\n",
              "      <td>-2.000000</td>\n",
              "      <td>0.000000</td>\n",
              "      <td>0.000000</td>\n",
              "      <td>0.000000</td>\n",
              "      <td>0.000000</td>\n",
              "      <td>0.000000</td>\n",
              "      <td>0.000000</td>\n",
              "      <td>0.000000</td>\n",
              "      <td>0.000000</td>\n",
              "    </tr>\n",
              "    <tr>\n",
              "      <th>50%</th>\n",
              "      <td>101.000000</td>\n",
              "      <td>0.000000</td>\n",
              "      <td>272.000000</td>\n",
              "      <td>0.000000</td>\n",
              "      <td>0.000000</td>\n",
              "      <td>0.000000</td>\n",
              "      <td>0.000000</td>\n",
              "      <td>0.000000</td>\n",
              "      <td>0.000000</td>\n",
              "      <td>0.000000</td>\n",
              "      <td>0.000000</td>\n",
              "      <td>0.000000</td>\n",
              "    </tr>\n",
              "    <tr>\n",
              "      <th>75%</th>\n",
              "      <td>152.000000</td>\n",
              "      <td>92.790000</td>\n",
              "      <td>525.000000</td>\n",
              "      <td>1.000000</td>\n",
              "      <td>32.250000</td>\n",
              "      <td>32.250000</td>\n",
              "      <td>26.660000</td>\n",
              "      <td>13.330000</td>\n",
              "      <td>21.500000</td>\n",
              "      <td>6.450000</td>\n",
              "      <td>21.250000</td>\n",
              "      <td>4.250000</td>\n",
              "    </tr>\n",
              "    <tr>\n",
              "      <th>max</th>\n",
              "      <td>209.000000</td>\n",
              "      <td>1775.030000</td>\n",
              "      <td>1920.000000</td>\n",
              "      <td>92.000000</td>\n",
              "      <td>1158.660000</td>\n",
              "      <td>1158.660000</td>\n",
              "      <td>1169.570000</td>\n",
              "      <td>584.790000</td>\n",
              "      <td>1159.710000</td>\n",
              "      <td>347.910000</td>\n",
              "      <td>1200.770000</td>\n",
              "      <td>240.150000</td>\n",
              "    </tr>\n",
              "  </tbody>\n",
              "</table>\n",
              "</div>"
            ],
            "text/plain": [
              "               rank  total_points  ...  three_year_ago_avg  three_year_ago_weighted\n",
              "count  57793.000000  57793.000000  ...        57793.000000             57793.000000\n",
              "mean     101.628086    122.068637  ...           59.173916                11.834811\n",
              "std       58.618424    260.426863  ...          135.533343                27.106675\n",
              "min        1.000000      0.000000  ...            0.000000                 0.000000\n",
              "25%       51.000000      0.000000  ...            0.000000                 0.000000\n",
              "50%      101.000000      0.000000  ...            0.000000                 0.000000\n",
              "75%      152.000000     92.790000  ...           21.250000                 4.250000\n",
              "max      209.000000   1775.030000  ...         1200.770000               240.150000\n",
              "\n",
              "[8 rows x 12 columns]"
            ]
          },
          "metadata": {},
          "execution_count": 8
        }
      ]
    },
    {
      "cell_type": "code",
      "metadata": {
        "colab": {
          "base_uri": "https://localhost:8080/",
          "height": 307
        },
        "id": "ZbM_lxh8TiCC",
        "outputId": "0b159575-7c77-4419-9dcc-d682eddbbaeb"
      },
      "source": [
        "#Seeing the results dataframe\n",
        "results.head()"
      ],
      "execution_count": 9,
      "outputs": [
        {
          "output_type": "execute_result",
          "data": {
            "text/html": [
              "<div>\n",
              "<style scoped>\n",
              "    .dataframe tbody tr th:only-of-type {\n",
              "        vertical-align: middle;\n",
              "    }\n",
              "\n",
              "    .dataframe tbody tr th {\n",
              "        vertical-align: top;\n",
              "    }\n",
              "\n",
              "    .dataframe thead th {\n",
              "        text-align: right;\n",
              "    }\n",
              "</style>\n",
              "<table border=\"1\" class=\"dataframe\">\n",
              "  <thead>\n",
              "    <tr style=\"text-align: right;\">\n",
              "      <th></th>\n",
              "      <th>date</th>\n",
              "      <th>home_team</th>\n",
              "      <th>away_team</th>\n",
              "      <th>home_score</th>\n",
              "      <th>away_score</th>\n",
              "      <th>tournament</th>\n",
              "      <th>city</th>\n",
              "      <th>country</th>\n",
              "      <th>neutral</th>\n",
              "    </tr>\n",
              "  </thead>\n",
              "  <tbody>\n",
              "    <tr>\n",
              "      <th>0</th>\n",
              "      <td>1872-11-30</td>\n",
              "      <td>Scotland</td>\n",
              "      <td>England</td>\n",
              "      <td>0</td>\n",
              "      <td>0</td>\n",
              "      <td>Friendly</td>\n",
              "      <td>Glasgow</td>\n",
              "      <td>Scotland</td>\n",
              "      <td>False</td>\n",
              "    </tr>\n",
              "    <tr>\n",
              "      <th>1</th>\n",
              "      <td>1873-03-08</td>\n",
              "      <td>England</td>\n",
              "      <td>Scotland</td>\n",
              "      <td>4</td>\n",
              "      <td>2</td>\n",
              "      <td>Friendly</td>\n",
              "      <td>London</td>\n",
              "      <td>England</td>\n",
              "      <td>False</td>\n",
              "    </tr>\n",
              "    <tr>\n",
              "      <th>2</th>\n",
              "      <td>1874-03-07</td>\n",
              "      <td>Scotland</td>\n",
              "      <td>England</td>\n",
              "      <td>2</td>\n",
              "      <td>1</td>\n",
              "      <td>Friendly</td>\n",
              "      <td>Glasgow</td>\n",
              "      <td>Scotland</td>\n",
              "      <td>False</td>\n",
              "    </tr>\n",
              "    <tr>\n",
              "      <th>3</th>\n",
              "      <td>1875-03-06</td>\n",
              "      <td>England</td>\n",
              "      <td>Scotland</td>\n",
              "      <td>2</td>\n",
              "      <td>2</td>\n",
              "      <td>Friendly</td>\n",
              "      <td>London</td>\n",
              "      <td>England</td>\n",
              "      <td>False</td>\n",
              "    </tr>\n",
              "    <tr>\n",
              "      <th>4</th>\n",
              "      <td>1876-03-04</td>\n",
              "      <td>Scotland</td>\n",
              "      <td>England</td>\n",
              "      <td>3</td>\n",
              "      <td>0</td>\n",
              "      <td>Friendly</td>\n",
              "      <td>Glasgow</td>\n",
              "      <td>Scotland</td>\n",
              "      <td>False</td>\n",
              "    </tr>\n",
              "  </tbody>\n",
              "</table>\n",
              "</div>"
            ],
            "text/plain": [
              "         date home_team away_team  ...     city   country neutral\n",
              "0  1872-11-30  Scotland   England  ...  Glasgow  Scotland   False\n",
              "1  1873-03-08   England  Scotland  ...   London   England   False\n",
              "2  1874-03-07  Scotland   England  ...  Glasgow  Scotland   False\n",
              "3  1875-03-06   England  Scotland  ...   London   England   False\n",
              "4  1876-03-04  Scotland   England  ...  Glasgow  Scotland   False\n",
              "\n",
              "[5 rows x 9 columns]"
            ]
          },
          "metadata": {},
          "execution_count": 9
        }
      ]
    },
    {
      "cell_type": "code",
      "metadata": {
        "colab": {
          "base_uri": "https://localhost:8080/",
          "height": 324
        },
        "id": "9WHU-ffpToDG",
        "outputId": "f74d27e3-d903-4cf9-cbf2-d7bacddeab56"
      },
      "source": [
        "results.tail()"
      ],
      "execution_count": 10,
      "outputs": [
        {
          "output_type": "execute_result",
          "data": {
            "text/html": [
              "<div>\n",
              "<style scoped>\n",
              "    .dataframe tbody tr th:only-of-type {\n",
              "        vertical-align: middle;\n",
              "    }\n",
              "\n",
              "    .dataframe tbody tr th {\n",
              "        vertical-align: top;\n",
              "    }\n",
              "\n",
              "    .dataframe thead th {\n",
              "        text-align: right;\n",
              "    }\n",
              "</style>\n",
              "<table border=\"1\" class=\"dataframe\">\n",
              "  <thead>\n",
              "    <tr style=\"text-align: right;\">\n",
              "      <th></th>\n",
              "      <th>date</th>\n",
              "      <th>home_team</th>\n",
              "      <th>away_team</th>\n",
              "      <th>home_score</th>\n",
              "      <th>away_score</th>\n",
              "      <th>tournament</th>\n",
              "      <th>city</th>\n",
              "      <th>country</th>\n",
              "      <th>neutral</th>\n",
              "    </tr>\n",
              "  </thead>\n",
              "  <tbody>\n",
              "    <tr>\n",
              "      <th>40834</th>\n",
              "      <td>2019-07-18</td>\n",
              "      <td>American Samoa</td>\n",
              "      <td>Tahiti</td>\n",
              "      <td>8</td>\n",
              "      <td>1</td>\n",
              "      <td>Pacific Games</td>\n",
              "      <td>Apia</td>\n",
              "      <td>Samoa</td>\n",
              "      <td>True</td>\n",
              "    </tr>\n",
              "    <tr>\n",
              "      <th>40835</th>\n",
              "      <td>2019-07-18</td>\n",
              "      <td>Fiji</td>\n",
              "      <td>Solomon Islands</td>\n",
              "      <td>4</td>\n",
              "      <td>4</td>\n",
              "      <td>Pacific Games</td>\n",
              "      <td>Apia</td>\n",
              "      <td>Samoa</td>\n",
              "      <td>True</td>\n",
              "    </tr>\n",
              "    <tr>\n",
              "      <th>40836</th>\n",
              "      <td>2019-07-19</td>\n",
              "      <td>Senegal</td>\n",
              "      <td>Algeria</td>\n",
              "      <td>0</td>\n",
              "      <td>1</td>\n",
              "      <td>African Cup of Nations</td>\n",
              "      <td>Cairo</td>\n",
              "      <td>Egypt</td>\n",
              "      <td>True</td>\n",
              "    </tr>\n",
              "    <tr>\n",
              "      <th>40837</th>\n",
              "      <td>2019-07-19</td>\n",
              "      <td>Tajikistan</td>\n",
              "      <td>North Korea</td>\n",
              "      <td>0</td>\n",
              "      <td>1</td>\n",
              "      <td>Intercontinental Cup</td>\n",
              "      <td>Ahmedabad</td>\n",
              "      <td>India</td>\n",
              "      <td>True</td>\n",
              "    </tr>\n",
              "    <tr>\n",
              "      <th>40838</th>\n",
              "      <td>2019-07-20</td>\n",
              "      <td>Papua New Guinea</td>\n",
              "      <td>Fiji</td>\n",
              "      <td>1</td>\n",
              "      <td>1</td>\n",
              "      <td>Pacific Games</td>\n",
              "      <td>Apia</td>\n",
              "      <td>Samoa</td>\n",
              "      <td>True</td>\n",
              "    </tr>\n",
              "  </tbody>\n",
              "</table>\n",
              "</div>"
            ],
            "text/plain": [
              "             date         home_team  ... country  neutral\n",
              "40834  2019-07-18    American Samoa  ...   Samoa     True\n",
              "40835  2019-07-18              Fiji  ...   Samoa     True\n",
              "40836  2019-07-19           Senegal  ...   Egypt     True\n",
              "40837  2019-07-19        Tajikistan  ...   India     True\n",
              "40838  2019-07-20  Papua New Guinea  ...   Samoa     True\n",
              "\n",
              "[5 rows x 9 columns]"
            ]
          },
          "metadata": {},
          "execution_count": 10
        }
      ]
    },
    {
      "cell_type": "code",
      "metadata": {
        "colab": {
          "base_uri": "https://localhost:8080/"
        },
        "id": "PdYWGFKqTprd",
        "outputId": "0f47a397-a769-4621-ccac-233c17710567"
      },
      "source": [
        "results.shape"
      ],
      "execution_count": 11,
      "outputs": [
        {
          "output_type": "execute_result",
          "data": {
            "text/plain": [
              "(40839, 9)"
            ]
          },
          "metadata": {},
          "execution_count": 11
        }
      ]
    },
    {
      "cell_type": "code",
      "metadata": {
        "colab": {
          "base_uri": "https://localhost:8080/"
        },
        "id": "wSowImT4Tr6S",
        "outputId": "ad9de039-5caa-4c2f-e144-d1e6b4bcef70"
      },
      "source": [
        "results.info()"
      ],
      "execution_count": 12,
      "outputs": [
        {
          "output_type": "stream",
          "name": "stdout",
          "text": [
            "<class 'pandas.core.frame.DataFrame'>\n",
            "RangeIndex: 40839 entries, 0 to 40838\n",
            "Data columns (total 9 columns):\n",
            " #   Column      Non-Null Count  Dtype \n",
            "---  ------      --------------  ----- \n",
            " 0   date        40839 non-null  object\n",
            " 1   home_team   40839 non-null  object\n",
            " 2   away_team   40839 non-null  object\n",
            " 3   home_score  40839 non-null  int64 \n",
            " 4   away_score  40839 non-null  int64 \n",
            " 5   tournament  40839 non-null  object\n",
            " 6   city        40839 non-null  object\n",
            " 7   country     40839 non-null  object\n",
            " 8   neutral     40839 non-null  bool  \n",
            "dtypes: bool(1), int64(2), object(6)\n",
            "memory usage: 2.5+ MB\n"
          ]
        }
      ]
    },
    {
      "cell_type": "code",
      "metadata": {
        "colab": {
          "base_uri": "https://localhost:8080/",
          "height": 295
        },
        "id": "59VrGkBUTt-l",
        "outputId": "6f6b0308-c834-4c84-c7b2-bc0eceb91895"
      },
      "source": [
        "results.describe()"
      ],
      "execution_count": 13,
      "outputs": [
        {
          "output_type": "execute_result",
          "data": {
            "text/html": [
              "<div>\n",
              "<style scoped>\n",
              "    .dataframe tbody tr th:only-of-type {\n",
              "        vertical-align: middle;\n",
              "    }\n",
              "\n",
              "    .dataframe tbody tr th {\n",
              "        vertical-align: top;\n",
              "    }\n",
              "\n",
              "    .dataframe thead th {\n",
              "        text-align: right;\n",
              "    }\n",
              "</style>\n",
              "<table border=\"1\" class=\"dataframe\">\n",
              "  <thead>\n",
              "    <tr style=\"text-align: right;\">\n",
              "      <th></th>\n",
              "      <th>home_score</th>\n",
              "      <th>away_score</th>\n",
              "    </tr>\n",
              "  </thead>\n",
              "  <tbody>\n",
              "    <tr>\n",
              "      <th>count</th>\n",
              "      <td>40839.000000</td>\n",
              "      <td>40839.000000</td>\n",
              "    </tr>\n",
              "    <tr>\n",
              "      <th>mean</th>\n",
              "      <td>1.745709</td>\n",
              "      <td>1.188105</td>\n",
              "    </tr>\n",
              "    <tr>\n",
              "      <th>std</th>\n",
              "      <td>1.749145</td>\n",
              "      <td>1.405120</td>\n",
              "    </tr>\n",
              "    <tr>\n",
              "      <th>min</th>\n",
              "      <td>0.000000</td>\n",
              "      <td>0.000000</td>\n",
              "    </tr>\n",
              "    <tr>\n",
              "      <th>25%</th>\n",
              "      <td>1.000000</td>\n",
              "      <td>0.000000</td>\n",
              "    </tr>\n",
              "    <tr>\n",
              "      <th>50%</th>\n",
              "      <td>1.000000</td>\n",
              "      <td>1.000000</td>\n",
              "    </tr>\n",
              "    <tr>\n",
              "      <th>75%</th>\n",
              "      <td>2.000000</td>\n",
              "      <td>2.000000</td>\n",
              "    </tr>\n",
              "    <tr>\n",
              "      <th>max</th>\n",
              "      <td>31.000000</td>\n",
              "      <td>21.000000</td>\n",
              "    </tr>\n",
              "  </tbody>\n",
              "</table>\n",
              "</div>"
            ],
            "text/plain": [
              "         home_score    away_score\n",
              "count  40839.000000  40839.000000\n",
              "mean       1.745709      1.188105\n",
              "std        1.749145      1.405120\n",
              "min        0.000000      0.000000\n",
              "25%        1.000000      0.000000\n",
              "50%        1.000000      1.000000\n",
              "75%        2.000000      2.000000\n",
              "max       31.000000     21.000000"
            ]
          },
          "metadata": {},
          "execution_count": 13
        }
      ]
    },
    {
      "cell_type": "markdown",
      "metadata": {
        "id": "Ur3ugCWPXor3"
      },
      "source": [
        "Now that the dataset has been loaded we will move onto the EDA. The first model will be a a polynomial regression "
      ]
    },
    {
      "cell_type": "code",
      "metadata": {
        "colab": {
          "base_uri": "https://localhost:8080/"
        },
        "id": "O4pshiCBTvjH",
        "outputId": "b4abbde1-0993-45dd-a303-0c267f4c1cdf"
      },
      "source": [
        "results.info()\n",
        "#There is no missing data in any column"
      ],
      "execution_count": 15,
      "outputs": [
        {
          "output_type": "stream",
          "name": "stdout",
          "text": [
            "<class 'pandas.core.frame.DataFrame'>\n",
            "RangeIndex: 40839 entries, 0 to 40838\n",
            "Data columns (total 9 columns):\n",
            " #   Column      Non-Null Count  Dtype \n",
            "---  ------      --------------  ----- \n",
            " 0   date        40839 non-null  object\n",
            " 1   home_team   40839 non-null  object\n",
            " 2   away_team   40839 non-null  object\n",
            " 3   home_score  40839 non-null  int64 \n",
            " 4   away_score  40839 non-null  int64 \n",
            " 5   tournament  40839 non-null  object\n",
            " 6   city        40839 non-null  object\n",
            " 7   country     40839 non-null  object\n",
            " 8   neutral     40839 non-null  bool  \n",
            "dtypes: bool(1), int64(2), object(6)\n",
            "memory usage: 2.5+ MB\n"
          ]
        }
      ]
    },
    {
      "cell_type": "code",
      "metadata": {
        "colab": {
          "base_uri": "https://localhost:8080/",
          "height": 298
        },
        "id": "5AYHI4C2X85a",
        "outputId": "3885f30b-c4b8-466f-f5ee-d3c223df195e"
      },
      "source": [
        "#Checking for outliers\n",
        "results.describe()\n",
        "sb.boxplot(x = results['home_score'])"
      ],
      "execution_count": 18,
      "outputs": [
        {
          "output_type": "execute_result",
          "data": {
            "text/plain": [
              "<matplotlib.axes._subplots.AxesSubplot at 0x7fc25a2c3410>"
            ]
          },
          "metadata": {},
          "execution_count": 18
        },
        {
          "output_type": "display_data",
          "data": {
            "image/png": "[encoded data removed]",
            "text/plain": [
              "<Figure size 432x288 with 1 Axes>"
            ]
          },
          "metadata": {
            "needs_background": "light"
          }
        }
      ]
    },
    {
      "cell_type": "code",
      "metadata": {
        "colab": {
          "base_uri": "https://localhost:8080/",
          "height": 297
        },
        "id": "VBWCkI6WYLZm",
        "outputId": "1ac1cb88-1d6f-43d3-822c-cf44c8b0321f"
      },
      "source": [
        "sb.boxplot(x = results['away_score'])\n",
        "#Majority of goals scored per game is ussualy less than 3 which is true with some games being exceptions with more\n",
        "#I wont remove these as they do occur and training a model to ignore them isnt suitable "
      ],
      "execution_count": 19,
      "outputs": [
        {
          "output_type": "execute_result",
          "data": {
            "text/plain": [
              "<matplotlib.axes._subplots.AxesSubplot at 0x7fc25a761250>"
            ]
          },
          "metadata": {},
          "execution_count": 19
        },
        {
          "output_type": "display_data",
          "data": {
            "image/png": "[encoded data removed]",
            "text/plain": [
              "<Figure size 432x288 with 1 Axes>"
            ]
          },
          "metadata": {
            "needs_background": "light"
          }
        }
      ]
    },
    {
      "cell_type": "code",
      "metadata": {
        "colab": {
          "base_uri": "https://localhost:8080/",
          "height": 297
        },
        "id": "Y8oG62EdYljj",
        "outputId": "8d8e7b47-5a0c-410d-c9c2-25f73043720e"
      },
      "source": [
        "#The second step is to perfom some univariate analysis \n",
        "sb.histplot(x=results['away_score'])\n",
        "sb.histplot(x=results['home_score'])"
      ],
      "execution_count": 20,
      "outputs": [
        {
          "output_type": "execute_result",
          "data": {
            "text/plain": [
              "<matplotlib.axes._subplots.AxesSubplot at 0x7fc25a1a3810>"
            ]
          },
          "metadata": {},
          "execution_count": 20
        },
        {
          "output_type": "display_data",
          "data": {
            "image/png": "[encoded data removed]",
            "text/plain": [
              "<Figure size 432x288 with 1 Axes>"
            ]
          },
          "metadata": {
            "needs_background": "light"
          }
        }
      ]
    },
    {
      "cell_type": "code",
      "metadata": {
        "colab": {
          "base_uri": "https://localhost:8080/"
        },
        "id": "4PDcI8t7ZsHe",
        "outputId": "c60ad118-52e4-490c-d0cc-861a2b46f3ca"
      },
      "source": [
        "#Time to do encoding\n",
        "from sklearn.preprocessing import LabelEncoder\n",
        "label = LabelEncoder()\n",
        "results.info()"
      ],
      "execution_count": 23,
      "outputs": [
        {
          "output_type": "stream",
          "name": "stdout",
          "text": [
            "<class 'pandas.core.frame.DataFrame'>\n",
            "RangeIndex: 40839 entries, 0 to 40838\n",
            "Data columns (total 9 columns):\n",
            " #   Column      Non-Null Count  Dtype \n",
            "---  ------      --------------  ----- \n",
            " 0   date        40839 non-null  object\n",
            " 1   home_team   40839 non-null  object\n",
            " 2   away_team   40839 non-null  object\n",
            " 3   home_score  40839 non-null  int64 \n",
            " 4   away_score  40839 non-null  int64 \n",
            " 5   tournament  40839 non-null  object\n",
            " 6   city        40839 non-null  object\n",
            " 7   country     40839 non-null  object\n",
            " 8   neutral     40839 non-null  bool  \n",
            "dtypes: bool(1), int64(2), object(6)\n",
            "memory usage: 2.5+ MB\n"
          ]
        }
      ]
    },
    {
      "cell_type": "code",
      "metadata": {
        "colab": {
          "base_uri": "https://localhost:8080/",
          "height": 307
        },
        "id": "ZQA3boumZx9i",
        "outputId": "b73f91c9-ad4f-47e2-a024-b6cb7b81e21b"
      },
      "source": [
        "results['tournamentEnco'] = label.fit_transform(results['tournament'])\n",
        "results['home_teamEnco'] = label.fit_transform(results['home_team'])\n",
        "results['away_teamEnco'] = label.fit_transform(results['away_team'])\n",
        "results.head()"
      ],
      "execution_count": 26,
      "outputs": [
        {
          "output_type": "execute_result",
          "data": {
            "text/html": [
              "<div>\n",
              "<style scoped>\n",
              "    .dataframe tbody tr th:only-of-type {\n",
              "        vertical-align: middle;\n",
              "    }\n",
              "\n",
              "    .dataframe tbody tr th {\n",
              "        vertical-align: top;\n",
              "    }\n",
              "\n",
              "    .dataframe thead th {\n",
              "        text-align: right;\n",
              "    }\n",
              "</style>\n",
              "<table border=\"1\" class=\"dataframe\">\n",
              "  <thead>\n",
              "    <tr style=\"text-align: right;\">\n",
              "      <th></th>\n",
              "      <th>date</th>\n",
              "      <th>home_team</th>\n",
              "      <th>away_team</th>\n",
              "      <th>home_score</th>\n",
              "      <th>away_score</th>\n",
              "      <th>tournament</th>\n",
              "      <th>city</th>\n",
              "      <th>country</th>\n",
              "      <th>neutral</th>\n",
              "      <th>tournamentEnco</th>\n",
              "      <th>home_teamEnco</th>\n",
              "      <th>away_teamEnco</th>\n",
              "    </tr>\n",
              "  </thead>\n",
              "  <tbody>\n",
              "    <tr>\n",
              "      <th>0</th>\n",
              "      <td>1872-11-30</td>\n",
              "      <td>Scotland</td>\n",
              "      <td>England</td>\n",
              "      <td>0</td>\n",
              "      <td>0</td>\n",
              "      <td>Friendly</td>\n",
              "      <td>Glasgow</td>\n",
              "      <td>Scotland</td>\n",
              "      <td>False</td>\n",
              "      <td>54</td>\n",
              "      <td>238</td>\n",
              "      <td>85</td>\n",
              "    </tr>\n",
              "    <tr>\n",
              "      <th>1</th>\n",
              "      <td>1873-03-08</td>\n",
              "      <td>England</td>\n",
              "      <td>Scotland</td>\n",
              "      <td>4</td>\n",
              "      <td>2</td>\n",
              "      <td>Friendly</td>\n",
              "      <td>London</td>\n",
              "      <td>England</td>\n",
              "      <td>False</td>\n",
              "      <td>54</td>\n",
              "      <td>85</td>\n",
              "      <td>233</td>\n",
              "    </tr>\n",
              "    <tr>\n",
              "      <th>2</th>\n",
              "      <td>1874-03-07</td>\n",
              "      <td>Scotland</td>\n",
              "      <td>England</td>\n",
              "      <td>2</td>\n",
              "      <td>1</td>\n",
              "      <td>Friendly</td>\n",
              "      <td>Glasgow</td>\n",
              "      <td>Scotland</td>\n",
              "      <td>False</td>\n",
              "      <td>54</td>\n",
              "      <td>238</td>\n",
              "      <td>85</td>\n",
              "    </tr>\n",
              "    <tr>\n",
              "      <th>3</th>\n",
              "      <td>1875-03-06</td>\n",
              "      <td>England</td>\n",
              "      <td>Scotland</td>\n",
              "      <td>2</td>\n",
              "      <td>2</td>\n",
              "      <td>Friendly</td>\n",
              "      <td>London</td>\n",
              "      <td>England</td>\n",
              "      <td>False</td>\n",
              "      <td>54</td>\n",
              "      <td>85</td>\n",
              "      <td>233</td>\n",
              "    </tr>\n",
              "    <tr>\n",
              "      <th>4</th>\n",
              "      <td>1876-03-04</td>\n",
              "      <td>Scotland</td>\n",
              "      <td>England</td>\n",
              "      <td>3</td>\n",
              "      <td>0</td>\n",
              "      <td>Friendly</td>\n",
              "      <td>Glasgow</td>\n",
              "      <td>Scotland</td>\n",
              "      <td>False</td>\n",
              "      <td>54</td>\n",
              "      <td>238</td>\n",
              "      <td>85</td>\n",
              "    </tr>\n",
              "  </tbody>\n",
              "</table>\n",
              "</div>"
            ],
            "text/plain": [
              "         date home_team away_team  ...  tournamentEnco  home_teamEnco away_teamEnco\n",
              "0  1872-11-30  Scotland   England  ...              54            238            85\n",
              "1  1873-03-08   England  Scotland  ...              54             85           233\n",
              "2  1874-03-07  Scotland   England  ...              54            238            85\n",
              "3  1875-03-06   England  Scotland  ...              54             85           233\n",
              "4  1876-03-04  Scotland   England  ...              54            238            85\n",
              "\n",
              "[5 rows x 12 columns]"
            ]
          },
          "metadata": {},
          "execution_count": 26
        }
      ]
    },
    {
      "cell_type": "code",
      "metadata": {
        "colab": {
          "base_uri": "https://localhost:8080/",
          "height": 254
        },
        "id": "DFRR7RGCeU4m",
        "outputId": "179026c7-3658-4fad-8db7-841a079b5f99"
      },
      "source": [
        "cors = results.corr()\n",
        "cors\n",
        "#The values are not ver related"
      ],
      "execution_count": 42,
      "outputs": [
        {
          "output_type": "execute_result",
          "data": {
            "text/html": [
              "<div>\n",
              "<style scoped>\n",
              "    .dataframe tbody tr th:only-of-type {\n",
              "        vertical-align: middle;\n",
              "    }\n",
              "\n",
              "    .dataframe tbody tr th {\n",
              "        vertical-align: top;\n",
              "    }\n",
              "\n",
              "    .dataframe thead th {\n",
              "        text-align: right;\n",
              "    }\n",
              "</style>\n",
              "<table border=\"1\" class=\"dataframe\">\n",
              "  <thead>\n",
              "    <tr style=\"text-align: right;\">\n",
              "      <th></th>\n",
              "      <th>home_score</th>\n",
              "      <th>away_score</th>\n",
              "      <th>neutral</th>\n",
              "      <th>tournamentEnco</th>\n",
              "      <th>home_teamEnco</th>\n",
              "      <th>away_teamEnco</th>\n",
              "    </tr>\n",
              "  </thead>\n",
              "  <tbody>\n",
              "    <tr>\n",
              "      <th>home_score</th>\n",
              "      <td>1.000000</td>\n",
              "      <td>-0.133412</td>\n",
              "      <td>-0.031660</td>\n",
              "      <td>0.003414</td>\n",
              "      <td>0.005179</td>\n",
              "      <td>-0.014927</td>\n",
              "    </tr>\n",
              "    <tr>\n",
              "      <th>away_score</th>\n",
              "      <td>-0.133412</td>\n",
              "      <td>1.000000</td>\n",
              "      <td>0.084335</td>\n",
              "      <td>0.029274</td>\n",
              "      <td>-0.019501</td>\n",
              "      <td>0.024628</td>\n",
              "    </tr>\n",
              "    <tr>\n",
              "      <th>neutral</th>\n",
              "      <td>-0.031660</td>\n",
              "      <td>0.084335</td>\n",
              "      <td>1.000000</td>\n",
              "      <td>-0.109582</td>\n",
              "      <td>-0.079991</td>\n",
              "      <td>0.102481</td>\n",
              "    </tr>\n",
              "    <tr>\n",
              "      <th>tournamentEnco</th>\n",
              "      <td>0.003414</td>\n",
              "      <td>0.029274</td>\n",
              "      <td>-0.109582</td>\n",
              "      <td>1.000000</td>\n",
              "      <td>-0.013873</td>\n",
              "      <td>-0.011635</td>\n",
              "    </tr>\n",
              "    <tr>\n",
              "      <th>home_teamEnco</th>\n",
              "      <td>0.005179</td>\n",
              "      <td>-0.019501</td>\n",
              "      <td>-0.079991</td>\n",
              "      <td>-0.013873</td>\n",
              "      <td>1.000000</td>\n",
              "      <td>-0.008210</td>\n",
              "    </tr>\n",
              "    <tr>\n",
              "      <th>away_teamEnco</th>\n",
              "      <td>-0.014927</td>\n",
              "      <td>0.024628</td>\n",
              "      <td>0.102481</td>\n",
              "      <td>-0.011635</td>\n",
              "      <td>-0.008210</td>\n",
              "      <td>1.000000</td>\n",
              "    </tr>\n",
              "  </tbody>\n",
              "</table>\n",
              "</div>"
            ],
            "text/plain": [
              "                home_score  away_score  ...  home_teamEnco  away_teamEnco\n",
              "home_score        1.000000   -0.133412  ...       0.005179      -0.014927\n",
              "away_score       -0.133412    1.000000  ...      -0.019501       0.024628\n",
              "neutral          -0.031660    0.084335  ...      -0.079991       0.102481\n",
              "tournamentEnco    0.003414    0.029274  ...      -0.013873      -0.011635\n",
              "home_teamEnco     0.005179   -0.019501  ...       1.000000      -0.008210\n",
              "away_teamEnco    -0.014927    0.024628  ...      -0.008210       1.000000\n",
              "\n",
              "[6 rows x 6 columns]"
            ]
          },
          "metadata": {},
          "execution_count": 42
        }
      ]
    },
    {
      "cell_type": "code",
      "metadata": {
        "colab": {
          "base_uri": "https://localhost:8080/",
          "height": 360
        },
        "id": "_XBu3F2seaHN",
        "outputId": "a3ab6bc9-5544-4a22-b933-3e769326d4be"
      },
      "source": [
        "sb.heatmap(results.corr())"
      ],
      "execution_count": 41,
      "outputs": [
        {
          "output_type": "execute_result",
          "data": {
            "text/plain": [
              "<matplotlib.axes._subplots.AxesSubplot at 0x7fc25490de10>"
            ]
          },
          "metadata": {},
          "execution_count": 41
        },
        {
          "output_type": "display_data",
          "data": {
            "image/png": "[encoded data removed]",
            "text/plain": [
              "<Figure size 432x288 with 2 Axes>"
            ]
          },
          "metadata": {
            "needs_background": "light"
          }
        }
      ]
    },
    {
      "cell_type": "code",
      "metadata": {
        "colab": {
          "base_uri": "https://localhost:8080/",
          "height": 254
        },
        "id": "4Jf1ZWtsekyt",
        "outputId": "6eec221b-e1ff-4877-adfe-c77505418e6c"
      },
      "source": [
        "pd.DataFrame(np.linalg.inv(cors.values), index = cors.index, columns=cors.columns)\n",
        "#None of the values are dependent on each other"
      ],
      "execution_count": 43,
      "outputs": [
        {
          "output_type": "execute_result",
          "data": {
            "text/html": [
              "<div>\n",
              "<style scoped>\n",
              "    .dataframe tbody tr th:only-of-type {\n",
              "        vertical-align: middle;\n",
              "    }\n",
              "\n",
              "    .dataframe tbody tr th {\n",
              "        vertical-align: top;\n",
              "    }\n",
              "\n",
              "    .dataframe thead th {\n",
              "        text-align: right;\n",
              "    }\n",
              "</style>\n",
              "<table border=\"1\" class=\"dataframe\">\n",
              "  <thead>\n",
              "    <tr style=\"text-align: right;\">\n",
              "      <th></th>\n",
              "      <th>home_score</th>\n",
              "      <th>away_score</th>\n",
              "      <th>neutral</th>\n",
              "      <th>tournamentEnco</th>\n",
              "      <th>home_teamEnco</th>\n",
              "      <th>away_teamEnco</th>\n",
              "    </tr>\n",
              "  </thead>\n",
              "  <tbody>\n",
              "    <tr>\n",
              "      <th>home_score</th>\n",
              "      <td>1.018680</td>\n",
              "      <td>0.134167</td>\n",
              "      <td>0.019268</td>\n",
              "      <td>-0.005194</td>\n",
              "      <td>-0.001109</td>\n",
              "      <td>0.009858</td>\n",
              "    </tr>\n",
              "    <tr>\n",
              "      <th>away_score</th>\n",
              "      <td>0.134167</td>\n",
              "      <td>1.026767</td>\n",
              "      <td>-0.084209</td>\n",
              "      <td>-0.039753</td>\n",
              "      <td>0.011917</td>\n",
              "      <td>-0.015020</td>\n",
              "    </tr>\n",
              "    <tr>\n",
              "      <th>neutral</th>\n",
              "      <td>0.019268</td>\n",
              "      <td>-0.084209</td>\n",
              "      <td>1.037434</td>\n",
              "      <td>0.116035</td>\n",
              "      <td>0.082016</td>\n",
              "      <td>-0.101932</td>\n",
              "    </tr>\n",
              "    <tr>\n",
              "      <th>tournamentEnco</th>\n",
              "      <td>-0.005194</td>\n",
              "      <td>-0.039753</td>\n",
              "      <td>0.116035</td>\n",
              "      <td>1.014222</td>\n",
              "      <td>0.022612</td>\n",
              "      <td>0.000996</td>\n",
              "    </tr>\n",
              "    <tr>\n",
              "      <th>home_teamEnco</th>\n",
              "      <td>-0.001109</td>\n",
              "      <td>0.011917</td>\n",
              "      <td>0.082016</td>\n",
              "      <td>0.022612</td>\n",
              "      <td>1.007111</td>\n",
              "      <td>-0.000184</td>\n",
              "    </tr>\n",
              "    <tr>\n",
              "      <th>away_teamEnco</th>\n",
              "      <td>0.009858</td>\n",
              "      <td>-0.015020</td>\n",
              "      <td>-0.101932</td>\n",
              "      <td>0.000996</td>\n",
              "      <td>-0.000184</td>\n",
              "      <td>1.010973</td>\n",
              "    </tr>\n",
              "  </tbody>\n",
              "</table>\n",
              "</div>"
            ],
            "text/plain": [
              "                home_score  away_score  ...  home_teamEnco  away_teamEnco\n",
              "home_score        1.018680    0.134167  ...      -0.001109       0.009858\n",
              "away_score        0.134167    1.026767  ...       0.011917      -0.015020\n",
              "neutral           0.019268   -0.084209  ...       0.082016      -0.101932\n",
              "tournamentEnco   -0.005194   -0.039753  ...       0.022612       0.000996\n",
              "home_teamEnco    -0.001109    0.011917  ...       1.007111      -0.000184\n",
              "away_teamEnco     0.009858   -0.015020  ...      -0.000184       1.010973\n",
              "\n",
              "[6 rows x 6 columns]"
            ]
          },
          "metadata": {},
          "execution_count": 43
        }
      ]
    },
    {
      "cell_type": "code",
      "metadata": {
        "id": "WQkKjn2obBNY"
      },
      "source": [
        "#Preparing the model\n",
        "from sklearn.model_selection import train_test_split\n",
        "from sklearn.linear_model import LinearRegression\n",
        "from sklearn import metrics"
      ],
      "execution_count": 44,
      "outputs": []
    },
    {
      "cell_type": "code",
      "metadata": {
        "colab": {
          "base_uri": "https://localhost:8080/"
        },
        "id": "3gzKwG2OcOOl",
        "outputId": "25976a90-a2a6-4a2d-cf26-43bf53c48f33"
      },
      "source": [
        "#The first step is to predict the scores for the home team\n",
        "X_home = results.drop(['home_score','date','home_team','away_team','tournament','city','country','neutral','away_score','away_teamEnco'], axis=1)\n",
        "X_home\n",
        "y = results['home_score']\n"
      ],
      "execution_count": 47,
      "outputs": [
        {
          "output_type": "execute_result",
          "data": {
            "text/plain": [
              "0        0\n",
              "1        4\n",
              "2        2\n",
              "3        2\n",
              "4        3\n",
              "        ..\n",
              "40834    8\n",
              "40835    4\n",
              "40836    0\n",
              "40837    0\n",
              "40838    1\n",
              "Name: home_score, Length: 40839, dtype: int64"
            ]
          },
          "metadata": {},
          "execution_count": 47
        }
      ]
    },
    {
      "cell_type": "code",
      "metadata": {
        "id": "R3yiK_5Obumd"
      },
      "source": [
        "X_train, X_test, y_train, y_test = train_test_split(X_home, y, test_size=0.2, random_state=0)\n",
        "#Splitting the data slice into train and test"
      ],
      "execution_count": 48,
      "outputs": []
    },
    {
      "cell_type": "code",
      "metadata": {
        "colab": {
          "base_uri": "https://localhost:8080/",
          "height": 298
        },
        "id": "vBuCF1ugb8Gf",
        "outputId": "54691e11-e6ee-4d5b-9179-ca3b03d1500c"
      },
      "source": [
        "sb.scatterplot(x=X_home['home_teamEnco'],y = y,data=results)"
      ],
      "execution_count": 49,
      "outputs": [
        {
          "output_type": "execute_result",
          "data": {
            "text/plain": [
              "<matplotlib.axes._subplots.AxesSubplot at 0x7fc254887150>"
            ]
          },
          "metadata": {},
          "execution_count": 49
        },
        {
          "output_type": "display_data",
          "data": {
            "image/png": "[encoded data removed]",
            "text/plain": [
              "<Figure size 432x288 with 1 Axes>"
            ]
          },
          "metadata": {
            "needs_background": "light"
          }
        }
      ]
    },
    {
      "cell_type": "code",
      "metadata": {
        "colab": {
          "base_uri": "https://localhost:8080/"
        },
        "id": "vs3NOrn6hLuO",
        "outputId": "d2bcad98-e283-47ca-f6af-e526e7e3545d"
      },
      "source": [
        "reg_line = LinearRegression()\n",
        "reg_line.fit(X,y)\n"
      ],
      "execution_count": 50,
      "outputs": [
        {
          "output_type": "execute_result",
          "data": {
            "text/plain": [
              "LinearRegression()"
            ]
          },
          "metadata": {},
          "execution_count": 50
        }
      ]
    },
    {
      "cell_type": "code",
      "metadata": {
        "colab": {
          "base_uri": "https://localhost:8080/"
        },
        "id": "9_k4qEygjNYH",
        "outputId": "b017c83a-0062-4471-ecb1-a428d8441f59"
      },
      "source": [
        "preds = np.array(X_home['home_teamEnco'])\n",
        "preds = preds.reshape(-1,1)\n",
        "preds.shape"
      ],
      "execution_count": 59,
      "outputs": [
        {
          "output_type": "execute_result",
          "data": {
            "text/plain": [
              "(40839, 1)"
            ]
          },
          "metadata": {},
          "execution_count": 59
        }
      ]
    },
    {
      "cell_type": "code",
      "metadata": {
        "colab": {
          "base_uri": "https://localhost:8080/",
          "height": 794
        },
        "id": "9H8mz7S4hTOT",
        "outputId": "93e21537-e483-4656-e203-a99582d2a36a"
      },
      "source": [
        "import matplotlib.pyplot as plt\n",
        "plt.scatter(X_home['home_teamEnco'], y, color='blue')\n",
        "plt.plot(preds, reg_line.predict(X_home['home_teamEnco']), color='red')"
      ],
      "execution_count": 61,
      "outputs": [
        {
          "output_type": "stream",
          "name": "stderr",
          "text": [
            "/usr/local/lib/python3.7/dist-packages/sklearn/base.py:446: UserWarning: X does not have valid feature names, but LinearRegression was fitted with feature names\n",
            "  \"X does not have valid feature names, but\"\n"
          ]
        },
        {
          "output_type": "error",
          "ename": "ValueError",
          "evalue": "ignored",
          "traceback": [
            "\u001b[0;31m---------------------------------------------------------------------------\u001b[0m",
            "\u001b[0;31mValueError\u001b[0m                                Traceback (most recent call last)",
            "\u001b[0;32m<ipython-input-61-2dad7f183e07>\u001b[0m in \u001b[0;36m<module>\u001b[0;34m()\u001b[0m\n\u001b[1;32m      1\u001b[0m \u001b[0;32mimport\u001b[0m \u001b[0mmatplotlib\u001b[0m\u001b[0;34m.\u001b[0m\u001b[0mpyplot\u001b[0m \u001b[0;32mas\u001b[0m \u001b[0mplt\u001b[0m\u001b[0;34m\u001b[0m\u001b[0;34m\u001b[0m\u001b[0m\n\u001b[1;32m      2\u001b[0m \u001b[0mplt\u001b[0m\u001b[0;34m.\u001b[0m\u001b[0mscatter\u001b[0m\u001b[0;34m(\u001b[0m\u001b[0mX_home\u001b[0m\u001b[0;34m[\u001b[0m\u001b[0;34m'home_teamEnco'\u001b[0m\u001b[0;34m]\u001b[0m\u001b[0;34m,\u001b[0m \u001b[0my\u001b[0m\u001b[0;34m,\u001b[0m \u001b[0mcolor\u001b[0m\u001b[0;34m=\u001b[0m\u001b[0;34m'blue'\u001b[0m\u001b[0;34m)\u001b[0m\u001b[0;34m\u001b[0m\u001b[0;34m\u001b[0m\u001b[0m\n\u001b[0;32m----> 3\u001b[0;31m \u001b[0mplt\u001b[0m\u001b[0;34m.\u001b[0m\u001b[0mplot\u001b[0m\u001b[0;34m(\u001b[0m\u001b[0mpreds\u001b[0m\u001b[0;34m,\u001b[0m \u001b[0mreg_line\u001b[0m\u001b[0;34m.\u001b[0m\u001b[0mpredict\u001b[0m\u001b[0;34m(\u001b[0m\u001b[0mX_home\u001b[0m\u001b[0;34m[\u001b[0m\u001b[0;34m'home_teamEnco'\u001b[0m\u001b[0;34m]\u001b[0m\u001b[0;34m)\u001b[0m\u001b[0;34m,\u001b[0m \u001b[0mcolor\u001b[0m\u001b[0;34m=\u001b[0m\u001b[0;34m'red'\u001b[0m\u001b[0;34m)\u001b[0m\u001b[0;34m\u001b[0m\u001b[0;34m\u001b[0m\u001b[0m\n\u001b[0m",
            "\u001b[0;32m/usr/local/lib/python3.7/dist-packages/sklearn/linear_model/_base.py\u001b[0m in \u001b[0;36mpredict\u001b[0;34m(self, X)\u001b[0m\n\u001b[1;32m    360\u001b[0m             \u001b[0mReturns\u001b[0m \u001b[0mpredicted\u001b[0m \u001b[0mvalues\u001b[0m\u001b[0;34m.\u001b[0m\u001b[0;34m\u001b[0m\u001b[0;34m\u001b[0m\u001b[0m\n\u001b[1;32m    361\u001b[0m         \"\"\"\n\u001b[0;32m--> 362\u001b[0;31m         \u001b[0;32mreturn\u001b[0m \u001b[0mself\u001b[0m\u001b[0;34m.\u001b[0m\u001b[0m_decision_function\u001b[0m\u001b[0;34m(\u001b[0m\u001b[0mX\u001b[0m\u001b[0;34m)\u001b[0m\u001b[0;34m\u001b[0m\u001b[0;34m\u001b[0m\u001b[0m\n\u001b[0m\u001b[1;32m    363\u001b[0m \u001b[0;34m\u001b[0m\u001b[0m\n\u001b[1;32m    364\u001b[0m     \u001b[0m_preprocess_data\u001b[0m \u001b[0;34m=\u001b[0m \u001b[0mstaticmethod\u001b[0m\u001b[0;34m(\u001b[0m\u001b[0m_preprocess_data\u001b[0m\u001b[0;34m)\u001b[0m\u001b[0;34m\u001b[0m\u001b[0;34m\u001b[0m\u001b[0m\n",
            "\u001b[0;32m/usr/local/lib/python3.7/dist-packages/sklearn/linear_model/_base.py\u001b[0m in \u001b[0;36m_decision_function\u001b[0;34m(self, X)\u001b[0m\n\u001b[1;32m    343\u001b[0m         \u001b[0mcheck_is_fitted\u001b[0m\u001b[0;34m(\u001b[0m\u001b[0mself\u001b[0m\u001b[0;34m)\u001b[0m\u001b[0;34m\u001b[0m\u001b[0;34m\u001b[0m\u001b[0m\n\u001b[1;32m    344\u001b[0m \u001b[0;34m\u001b[0m\u001b[0m\n\u001b[0;32m--> 345\u001b[0;31m         \u001b[0mX\u001b[0m \u001b[0;34m=\u001b[0m \u001b[0mself\u001b[0m\u001b[0;34m.\u001b[0m\u001b[0m_validate_data\u001b[0m\u001b[0;34m(\u001b[0m\u001b[0mX\u001b[0m\u001b[0;34m,\u001b[0m \u001b[0maccept_sparse\u001b[0m\u001b[0;34m=\u001b[0m\u001b[0;34m[\u001b[0m\u001b[0;34m\"csr\"\u001b[0m\u001b[0;34m,\u001b[0m \u001b[0;34m\"csc\"\u001b[0m\u001b[0;34m,\u001b[0m \u001b[0;34m\"coo\"\u001b[0m\u001b[0;34m]\u001b[0m\u001b[0;34m,\u001b[0m \u001b[0mreset\u001b[0m\u001b[0;34m=\u001b[0m\u001b[0;32mFalse\u001b[0m\u001b[0;34m)\u001b[0m\u001b[0;34m\u001b[0m\u001b[0;34m\u001b[0m\u001b[0m\n\u001b[0m\u001b[1;32m    346\u001b[0m         \u001b[0;32mreturn\u001b[0m \u001b[0msafe_sparse_dot\u001b[0m\u001b[0;34m(\u001b[0m\u001b[0mX\u001b[0m\u001b[0;34m,\u001b[0m \u001b[0mself\u001b[0m\u001b[0;34m.\u001b[0m\u001b[0mcoef_\u001b[0m\u001b[0;34m.\u001b[0m\u001b[0mT\u001b[0m\u001b[0;34m,\u001b[0m \u001b[0mdense_output\u001b[0m\u001b[0;34m=\u001b[0m\u001b[0;32mTrue\u001b[0m\u001b[0;34m)\u001b[0m \u001b[0;34m+\u001b[0m \u001b[0mself\u001b[0m\u001b[0;34m.\u001b[0m\u001b[0mintercept_\u001b[0m\u001b[0;34m\u001b[0m\u001b[0;34m\u001b[0m\u001b[0m\n\u001b[1;32m    347\u001b[0m \u001b[0;34m\u001b[0m\u001b[0m\n",
            "\u001b[0;32m/usr/local/lib/python3.7/dist-packages/sklearn/base.py\u001b[0m in \u001b[0;36m_validate_data\u001b[0;34m(self, X, y, reset, validate_separately, **check_params)\u001b[0m\n\u001b[1;32m    559\u001b[0m             \u001b[0;32mraise\u001b[0m \u001b[0mValueError\u001b[0m\u001b[0;34m(\u001b[0m\u001b[0;34m\"Validation should be done on X, y or both.\"\u001b[0m\u001b[0;34m)\u001b[0m\u001b[0;34m\u001b[0m\u001b[0;34m\u001b[0m\u001b[0m\n\u001b[1;32m    560\u001b[0m         \u001b[0;32melif\u001b[0m \u001b[0;32mnot\u001b[0m \u001b[0mno_val_X\u001b[0m \u001b[0;32mand\u001b[0m \u001b[0mno_val_y\u001b[0m\u001b[0;34m:\u001b[0m\u001b[0;34m\u001b[0m\u001b[0;34m\u001b[0m\u001b[0m\n\u001b[0;32m--> 561\u001b[0;31m             \u001b[0mX\u001b[0m \u001b[0;34m=\u001b[0m \u001b[0mcheck_array\u001b[0m\u001b[0;34m(\u001b[0m\u001b[0mX\u001b[0m\u001b[0;34m,\u001b[0m \u001b[0;34m**\u001b[0m\u001b[0mcheck_params\u001b[0m\u001b[0;34m)\u001b[0m\u001b[0;34m\u001b[0m\u001b[0;34m\u001b[0m\u001b[0m\n\u001b[0m\u001b[1;32m    562\u001b[0m             \u001b[0mout\u001b[0m \u001b[0;34m=\u001b[0m \u001b[0mX\u001b[0m\u001b[0;34m\u001b[0m\u001b[0;34m\u001b[0m\u001b[0m\n\u001b[1;32m    563\u001b[0m         \u001b[0;32melif\u001b[0m \u001b[0mno_val_X\u001b[0m \u001b[0;32mand\u001b[0m \u001b[0;32mnot\u001b[0m \u001b[0mno_val_y\u001b[0m\u001b[0;34m:\u001b[0m\u001b[0;34m\u001b[0m\u001b[0;34m\u001b[0m\u001b[0m\n",
            "\u001b[0;32m/usr/local/lib/python3.7/dist-packages/sklearn/utils/validation.py\u001b[0m in \u001b[0;36mcheck_array\u001b[0;34m(array, accept_sparse, accept_large_sparse, dtype, order, copy, force_all_finite, ensure_2d, allow_nd, ensure_min_samples, ensure_min_features, estimator)\u001b[0m\n\u001b[1;32m    763\u001b[0m                     \u001b[0;34m\"Reshape your data either using array.reshape(-1, 1) if \"\u001b[0m\u001b[0;34m\u001b[0m\u001b[0;34m\u001b[0m\u001b[0m\n\u001b[1;32m    764\u001b[0m                     \u001b[0;34m\"your data has a single feature or array.reshape(1, -1) \"\u001b[0m\u001b[0;34m\u001b[0m\u001b[0;34m\u001b[0m\u001b[0m\n\u001b[0;32m--> 765\u001b[0;31m                     \u001b[0;34m\"if it contains a single sample.\"\u001b[0m\u001b[0;34m.\u001b[0m\u001b[0mformat\u001b[0m\u001b[0;34m(\u001b[0m\u001b[0marray\u001b[0m\u001b[0;34m)\u001b[0m\u001b[0;34m\u001b[0m\u001b[0;34m\u001b[0m\u001b[0m\n\u001b[0m\u001b[1;32m    766\u001b[0m                 )\n\u001b[1;32m    767\u001b[0m \u001b[0;34m\u001b[0m\u001b[0m\n",
            "\u001b[0;31mValueError\u001b[0m: Expected 2D array, got 1D array instead:\narray=[238  85 238 ... 239 268 208].\nReshape your data either using array.reshape(-1, 1) if your data has a single feature or array.reshape(1, -1) if it contains a single sample."
          ]
        },
        {
          "output_type": "display_data",
          "data": {
            "image/png": "[encoded data removed]",
            "text/plain": [
              "<Figure size 432x288 with 1 Axes>"
            ]
          },
          "metadata": {
            "needs_background": "light"
          }
        }
      ]
    },
    {
      "cell_type": "code",
      "metadata": {
        "colab": {
          "base_uri": "https://localhost:8080/"
        },
        "id": "Of6SX7KFhpUC",
        "outputId": "ba8fe1a4-f66f-4251-8545-2ac80edaae6c"
      },
      "source": [
        "from sklearn.preprocessing import PolynomialFeatures\n",
        "poly_reg = PolynomialFeatures(degree=2)\n",
        "X_home_Poly = poly_reg.fit_transform(X_home)\n",
        "\n",
        "p_reg = LinearRegression()\n",
        "p_reg.fit(X_home,y)"
      ],
      "execution_count": 63,
      "outputs": [
        {
          "output_type": "execute_result",
          "data": {
            "text/plain": [
              "LinearRegression()"
            ]
          },
          "metadata": {},
          "execution_count": 63
        }
      ]
    },
    {
      "cell_type": "code",
      "metadata": {
        "colab": {
          "base_uri": "https://localhost:8080/",
          "height": 440
        },
        "id": "wmlKmJWHh7Dv",
        "outputId": "822929e0-4881-4c95-8038-6cfe87f7cc32"
      },
      "source": [
        "predicts = p_reg.predict(poly_reg.fit_transform([[6]]))\n",
        "print('Polynomial prediction: %d' %predicts)"
      ],
      "execution_count": 64,
      "outputs": [
        {
          "output_type": "stream",
          "name": "stderr",
          "text": [
            "/usr/local/lib/python3.7/dist-packages/sklearn/base.py:446: UserWarning: X does not have valid feature names, but LinearRegression was fitted with feature names\n",
            "  \"X does not have valid feature names, but\"\n"
          ]
        },
        {
          "output_type": "error",
          "ename": "ValueError",
          "evalue": "ignored",
          "traceback": [
            "\u001b[0;31m---------------------------------------------------------------------------\u001b[0m",
            "\u001b[0;31mValueError\u001b[0m                                Traceback (most recent call last)",
            "\u001b[0;32m<ipython-input-64-dffe50c1aedd>\u001b[0m in \u001b[0;36m<module>\u001b[0;34m()\u001b[0m\n\u001b[0;32m----> 1\u001b[0;31m \u001b[0mpredicts\u001b[0m \u001b[0;34m=\u001b[0m \u001b[0mp_reg\u001b[0m\u001b[0;34m.\u001b[0m\u001b[0mpredict\u001b[0m\u001b[0;34m(\u001b[0m\u001b[0mpoly_reg\u001b[0m\u001b[0;34m.\u001b[0m\u001b[0mfit_transform\u001b[0m\u001b[0;34m(\u001b[0m\u001b[0;34m[\u001b[0m\u001b[0;34m[\u001b[0m\u001b[0;36m6\u001b[0m\u001b[0;34m]\u001b[0m\u001b[0;34m]\u001b[0m\u001b[0;34m)\u001b[0m\u001b[0;34m)\u001b[0m\u001b[0;34m\u001b[0m\u001b[0;34m\u001b[0m\u001b[0m\n\u001b[0m\u001b[1;32m      2\u001b[0m \u001b[0mprint\u001b[0m\u001b[0;34m(\u001b[0m\u001b[0;34m'Polynomial prediction: %d'\u001b[0m \u001b[0;34m%\u001b[0m\u001b[0mpredicts\u001b[0m\u001b[0;34m)\u001b[0m\u001b[0;34m\u001b[0m\u001b[0;34m\u001b[0m\u001b[0m\n",
            "\u001b[0;32m/usr/local/lib/python3.7/dist-packages/sklearn/linear_model/_base.py\u001b[0m in \u001b[0;36mpredict\u001b[0;34m(self, X)\u001b[0m\n\u001b[1;32m    360\u001b[0m             \u001b[0mReturns\u001b[0m \u001b[0mpredicted\u001b[0m \u001b[0mvalues\u001b[0m\u001b[0;34m.\u001b[0m\u001b[0;34m\u001b[0m\u001b[0;34m\u001b[0m\u001b[0m\n\u001b[1;32m    361\u001b[0m         \"\"\"\n\u001b[0;32m--> 362\u001b[0;31m         \u001b[0;32mreturn\u001b[0m \u001b[0mself\u001b[0m\u001b[0;34m.\u001b[0m\u001b[0m_decision_function\u001b[0m\u001b[0;34m(\u001b[0m\u001b[0mX\u001b[0m\u001b[0;34m)\u001b[0m\u001b[0;34m\u001b[0m\u001b[0;34m\u001b[0m\u001b[0m\n\u001b[0m\u001b[1;32m    363\u001b[0m \u001b[0;34m\u001b[0m\u001b[0m\n\u001b[1;32m    364\u001b[0m     \u001b[0m_preprocess_data\u001b[0m \u001b[0;34m=\u001b[0m \u001b[0mstaticmethod\u001b[0m\u001b[0;34m(\u001b[0m\u001b[0m_preprocess_data\u001b[0m\u001b[0;34m)\u001b[0m\u001b[0;34m\u001b[0m\u001b[0;34m\u001b[0m\u001b[0m\n",
            "\u001b[0;32m/usr/local/lib/python3.7/dist-packages/sklearn/linear_model/_base.py\u001b[0m in \u001b[0;36m_decision_function\u001b[0;34m(self, X)\u001b[0m\n\u001b[1;32m    343\u001b[0m         \u001b[0mcheck_is_fitted\u001b[0m\u001b[0;34m(\u001b[0m\u001b[0mself\u001b[0m\u001b[0;34m)\u001b[0m\u001b[0;34m\u001b[0m\u001b[0;34m\u001b[0m\u001b[0m\n\u001b[1;32m    344\u001b[0m \u001b[0;34m\u001b[0m\u001b[0m\n\u001b[0;32m--> 345\u001b[0;31m         \u001b[0mX\u001b[0m \u001b[0;34m=\u001b[0m \u001b[0mself\u001b[0m\u001b[0;34m.\u001b[0m\u001b[0m_validate_data\u001b[0m\u001b[0;34m(\u001b[0m\u001b[0mX\u001b[0m\u001b[0;34m,\u001b[0m \u001b[0maccept_sparse\u001b[0m\u001b[0;34m=\u001b[0m\u001b[0;34m[\u001b[0m\u001b[0;34m\"csr\"\u001b[0m\u001b[0;34m,\u001b[0m \u001b[0;34m\"csc\"\u001b[0m\u001b[0;34m,\u001b[0m \u001b[0;34m\"coo\"\u001b[0m\u001b[0;34m]\u001b[0m\u001b[0;34m,\u001b[0m \u001b[0mreset\u001b[0m\u001b[0;34m=\u001b[0m\u001b[0;32mFalse\u001b[0m\u001b[0;34m)\u001b[0m\u001b[0;34m\u001b[0m\u001b[0;34m\u001b[0m\u001b[0m\n\u001b[0m\u001b[1;32m    346\u001b[0m         \u001b[0;32mreturn\u001b[0m \u001b[0msafe_sparse_dot\u001b[0m\u001b[0;34m(\u001b[0m\u001b[0mX\u001b[0m\u001b[0;34m,\u001b[0m \u001b[0mself\u001b[0m\u001b[0;34m.\u001b[0m\u001b[0mcoef_\u001b[0m\u001b[0;34m.\u001b[0m\u001b[0mT\u001b[0m\u001b[0;34m,\u001b[0m \u001b[0mdense_output\u001b[0m\u001b[0;34m=\u001b[0m\u001b[0;32mTrue\u001b[0m\u001b[0;34m)\u001b[0m \u001b[0;34m+\u001b[0m \u001b[0mself\u001b[0m\u001b[0;34m.\u001b[0m\u001b[0mintercept_\u001b[0m\u001b[0;34m\u001b[0m\u001b[0;34m\u001b[0m\u001b[0m\n\u001b[1;32m    347\u001b[0m \u001b[0;34m\u001b[0m\u001b[0m\n",
            "\u001b[0;32m/usr/local/lib/python3.7/dist-packages/sklearn/base.py\u001b[0m in \u001b[0;36m_validate_data\u001b[0;34m(self, X, y, reset, validate_separately, **check_params)\u001b[0m\n\u001b[1;32m    578\u001b[0m \u001b[0;34m\u001b[0m\u001b[0m\n\u001b[1;32m    579\u001b[0m         \u001b[0;32mif\u001b[0m \u001b[0;32mnot\u001b[0m \u001b[0mno_val_X\u001b[0m \u001b[0;32mand\u001b[0m \u001b[0mcheck_params\u001b[0m\u001b[0;34m.\u001b[0m\u001b[0mget\u001b[0m\u001b[0;34m(\u001b[0m\u001b[0;34m\"ensure_2d\"\u001b[0m\u001b[0;34m,\u001b[0m \u001b[0;32mTrue\u001b[0m\u001b[0;34m)\u001b[0m\u001b[0;34m:\u001b[0m\u001b[0;34m\u001b[0m\u001b[0;34m\u001b[0m\u001b[0m\n\u001b[0;32m--> 580\u001b[0;31m             \u001b[0mself\u001b[0m\u001b[0;34m.\u001b[0m\u001b[0m_check_n_features\u001b[0m\u001b[0;34m(\u001b[0m\u001b[0mX\u001b[0m\u001b[0;34m,\u001b[0m \u001b[0mreset\u001b[0m\u001b[0;34m=\u001b[0m\u001b[0mreset\u001b[0m\u001b[0;34m)\u001b[0m\u001b[0;34m\u001b[0m\u001b[0;34m\u001b[0m\u001b[0m\n\u001b[0m\u001b[1;32m    581\u001b[0m \u001b[0;34m\u001b[0m\u001b[0m\n\u001b[1;32m    582\u001b[0m         \u001b[0;32mreturn\u001b[0m \u001b[0mout\u001b[0m\u001b[0;34m\u001b[0m\u001b[0;34m\u001b[0m\u001b[0m\n",
            "\u001b[0;32m/usr/local/lib/python3.7/dist-packages/sklearn/base.py\u001b[0m in \u001b[0;36m_check_n_features\u001b[0;34m(self, X, reset)\u001b[0m\n\u001b[1;32m    394\u001b[0m         \u001b[0;32mif\u001b[0m \u001b[0mn_features\u001b[0m \u001b[0;34m!=\u001b[0m \u001b[0mself\u001b[0m\u001b[0;34m.\u001b[0m\u001b[0mn_features_in_\u001b[0m\u001b[0;34m:\u001b[0m\u001b[0;34m\u001b[0m\u001b[0;34m\u001b[0m\u001b[0m\n\u001b[1;32m    395\u001b[0m             raise ValueError(\n\u001b[0;32m--> 396\u001b[0;31m                 \u001b[0;34mf\"X has {n_features} features, but {self.__class__.__name__} \"\u001b[0m\u001b[0;34m\u001b[0m\u001b[0;34m\u001b[0m\u001b[0m\n\u001b[0m\u001b[1;32m    397\u001b[0m                 \u001b[0;34mf\"is expecting {self.n_features_in_} features as input.\"\u001b[0m\u001b[0;34m\u001b[0m\u001b[0;34m\u001b[0m\u001b[0m\n\u001b[1;32m    398\u001b[0m             )\n",
            "\u001b[0;31mValueError\u001b[0m: X has 3 features, but LinearRegression is expecting 2 features as input."
          ]
        }
      ]
    },
    {
      "cell_type": "code",
      "metadata": {
        "id": "inCY6oH8mK-y"
      },
      "source": [
        ""
      ],
      "execution_count": null,
      "outputs": []
    },
    {
      "cell_type": "code",
      "metadata": {
        "id": "APjX2tH1nVgk"
      },
      "source": [
        ""
      ],
      "execution_count": null,
      "outputs": []
    },
    {
      "cell_type": "code",
      "metadata": {
        "id": "-rtWNHHCnVdL"
      },
      "source": [
        ""
      ],
      "execution_count": null,
      "outputs": []
    },
    {
      "cell_type": "code",
      "metadata": {
        "id": "pWRjbRSvnVZr"
      },
      "source": [
        ""
      ],
      "execution_count": null,
      "outputs": []
    },
    {
      "cell_type": "code",
      "metadata": {
        "id": "fIT0blRsnVW7"
      },
      "source": [
        ""
      ],
      "execution_count": null,
      "outputs": []
    },
    {
      "cell_type": "markdown",
      "metadata": {
        "id": "6podkSWWnV_7"
      },
      "source": [
        "# Trying out logisitic regression, the other one is stuck"
      ]
    },
    {
      "cell_type": "code",
      "metadata": {
        "colab": {
          "base_uri": "https://localhost:8080/",
          "height": 622
        },
        "id": "FN2um9lenn7L",
        "outputId": "cfe20b0f-b820-4148-df23-10dc04570186"
      },
      "source": [
        "results"
      ],
      "execution_count": 65,
      "outputs": [
        {
          "output_type": "execute_result",
          "data": {
            "text/html": [
              "<div>\n",
              "<style scoped>\n",
              "    .dataframe tbody tr th:only-of-type {\n",
              "        vertical-align: middle;\n",
              "    }\n",
              "\n",
              "    .dataframe tbody tr th {\n",
              "        vertical-align: top;\n",
              "    }\n",
              "\n",
              "    .dataframe thead th {\n",
              "        text-align: right;\n",
              "    }\n",
              "</style>\n",
              "<table border=\"1\" class=\"dataframe\">\n",
              "  <thead>\n",
              "    <tr style=\"text-align: right;\">\n",
              "      <th></th>\n",
              "      <th>date</th>\n",
              "      <th>home_team</th>\n",
              "      <th>away_team</th>\n",
              "      <th>home_score</th>\n",
              "      <th>away_score</th>\n",
              "      <th>tournament</th>\n",
              "      <th>city</th>\n",
              "      <th>country</th>\n",
              "      <th>neutral</th>\n",
              "      <th>tournamentEnco</th>\n",
              "      <th>home_teamEnco</th>\n",
              "      <th>away_teamEnco</th>\n",
              "    </tr>\n",
              "  </thead>\n",
              "  <tbody>\n",
              "    <tr>\n",
              "      <th>0</th>\n",
              "      <td>1872-11-30</td>\n",
              "      <td>Scotland</td>\n",
              "      <td>England</td>\n",
              "      <td>0</td>\n",
              "      <td>0</td>\n",
              "      <td>Friendly</td>\n",
              "      <td>Glasgow</td>\n",
              "      <td>Scotland</td>\n",
              "      <td>False</td>\n",
              "      <td>54</td>\n",
              "      <td>238</td>\n",
              "      <td>85</td>\n",
              "    </tr>\n",
              "    <tr>\n",
              "      <th>1</th>\n",
              "      <td>1873-03-08</td>\n",
              "      <td>England</td>\n",
              "      <td>Scotland</td>\n",
              "      <td>4</td>\n",
              "      <td>2</td>\n",
              "      <td>Friendly</td>\n",
              "      <td>London</td>\n",
              "      <td>England</td>\n",
              "      <td>False</td>\n",
              "      <td>54</td>\n",
              "      <td>85</td>\n",
              "      <td>233</td>\n",
              "    </tr>\n",
              "    <tr>\n",
              "      <th>2</th>\n",
              "      <td>1874-03-07</td>\n",
              "      <td>Scotland</td>\n",
              "      <td>England</td>\n",
              "      <td>2</td>\n",
              "      <td>1</td>\n",
              "      <td>Friendly</td>\n",
              "      <td>Glasgow</td>\n",
              "      <td>Scotland</td>\n",
              "      <td>False</td>\n",
              "      <td>54</td>\n",
              "      <td>238</td>\n",
              "      <td>85</td>\n",
              "    </tr>\n",
              "    <tr>\n",
              "      <th>3</th>\n",
              "      <td>1875-03-06</td>\n",
              "      <td>England</td>\n",
              "      <td>Scotland</td>\n",
              "      <td>2</td>\n",
              "      <td>2</td>\n",
              "      <td>Friendly</td>\n",
              "      <td>London</td>\n",
              "      <td>England</td>\n",
              "      <td>False</td>\n",
              "      <td>54</td>\n",
              "      <td>85</td>\n",
              "      <td>233</td>\n",
              "    </tr>\n",
              "    <tr>\n",
              "      <th>4</th>\n",
              "      <td>1876-03-04</td>\n",
              "      <td>Scotland</td>\n",
              "      <td>England</td>\n",
              "      <td>3</td>\n",
              "      <td>0</td>\n",
              "      <td>Friendly</td>\n",
              "      <td>Glasgow</td>\n",
              "      <td>Scotland</td>\n",
              "      <td>False</td>\n",
              "      <td>54</td>\n",
              "      <td>238</td>\n",
              "      <td>85</td>\n",
              "    </tr>\n",
              "    <tr>\n",
              "      <th>...</th>\n",
              "      <td>...</td>\n",
              "      <td>...</td>\n",
              "      <td>...</td>\n",
              "      <td>...</td>\n",
              "      <td>...</td>\n",
              "      <td>...</td>\n",
              "      <td>...</td>\n",
              "      <td>...</td>\n",
              "      <td>...</td>\n",
              "      <td>...</td>\n",
              "      <td>...</td>\n",
              "      <td>...</td>\n",
              "    </tr>\n",
              "    <tr>\n",
              "      <th>40834</th>\n",
              "      <td>2019-07-18</td>\n",
              "      <td>American Samoa</td>\n",
              "      <td>Tahiti</td>\n",
              "      <td>8</td>\n",
              "      <td>1</td>\n",
              "      <td>Pacific Games</td>\n",
              "      <td>Apia</td>\n",
              "      <td>Samoa</td>\n",
              "      <td>True</td>\n",
              "      <td>83</td>\n",
              "      <td>5</td>\n",
              "      <td>262</td>\n",
              "    </tr>\n",
              "    <tr>\n",
              "      <th>40835</th>\n",
              "      <td>2019-07-18</td>\n",
              "      <td>Fiji</td>\n",
              "      <td>Solomon Islands</td>\n",
              "      <td>4</td>\n",
              "      <td>4</td>\n",
              "      <td>Pacific Games</td>\n",
              "      <td>Apia</td>\n",
              "      <td>Samoa</td>\n",
              "      <td>True</td>\n",
              "      <td>83</td>\n",
              "      <td>94</td>\n",
              "      <td>243</td>\n",
              "    </tr>\n",
              "    <tr>\n",
              "      <th>40836</th>\n",
              "      <td>2019-07-19</td>\n",
              "      <td>Senegal</td>\n",
              "      <td>Algeria</td>\n",
              "      <td>0</td>\n",
              "      <td>1</td>\n",
              "      <td>African Cup of Nations</td>\n",
              "      <td>Cairo</td>\n",
              "      <td>Egypt</td>\n",
              "      <td>True</td>\n",
              "      <td>7</td>\n",
              "      <td>239</td>\n",
              "      <td>4</td>\n",
              "    </tr>\n",
              "    <tr>\n",
              "      <th>40837</th>\n",
              "      <td>2019-07-19</td>\n",
              "      <td>Tajikistan</td>\n",
              "      <td>North Korea</td>\n",
              "      <td>0</td>\n",
              "      <td>1</td>\n",
              "      <td>Intercontinental Cup</td>\n",
              "      <td>Ahmedabad</td>\n",
              "      <td>India</td>\n",
              "      <td>True</td>\n",
              "      <td>61</td>\n",
              "      <td>268</td>\n",
              "      <td>189</td>\n",
              "    </tr>\n",
              "    <tr>\n",
              "      <th>40838</th>\n",
              "      <td>2019-07-20</td>\n",
              "      <td>Papua New Guinea</td>\n",
              "      <td>Fiji</td>\n",
              "      <td>1</td>\n",
              "      <td>1</td>\n",
              "      <td>Pacific Games</td>\n",
              "      <td>Apia</td>\n",
              "      <td>Samoa</td>\n",
              "      <td>True</td>\n",
              "      <td>83</td>\n",
              "      <td>208</td>\n",
              "      <td>94</td>\n",
              "    </tr>\n",
              "  </tbody>\n",
              "</table>\n",
              "<p>40839 rows × 12 columns</p>\n",
              "</div>"
            ],
            "text/plain": [
              "             date         home_team  ... home_teamEnco  away_teamEnco\n",
              "0      1872-11-30          Scotland  ...           238             85\n",
              "1      1873-03-08           England  ...            85            233\n",
              "2      1874-03-07          Scotland  ...           238             85\n",
              "3      1875-03-06           England  ...            85            233\n",
              "4      1876-03-04          Scotland  ...           238             85\n",
              "...           ...               ...  ...           ...            ...\n",
              "40834  2019-07-18    American Samoa  ...             5            262\n",
              "40835  2019-07-18              Fiji  ...            94            243\n",
              "40836  2019-07-19           Senegal  ...           239              4\n",
              "40837  2019-07-19        Tajikistan  ...           268            189\n",
              "40838  2019-07-20  Papua New Guinea  ...           208             94\n",
              "\n",
              "[40839 rows x 12 columns]"
            ]
          },
          "metadata": {},
          "execution_count": 65
        }
      ]
    },
    {
      "cell_type": "code",
      "metadata": {
        "id": "O0Q4d2EcotPa"
      },
      "source": [
        "#The collum that i will add will be to ensure if i know whether the team won or drew or lost\n",
        "def myFunk(home_score, class):\n",
        "  if"
      ],
      "execution_count": null,
      "outputs": []
    },
    {
      "cell_type": "code",
      "metadata": {
        "id": "wRr2VVzXn8UY"
      },
      "source": [
        "log_data = results.drop(['date','home_team','away_team','tournament','city','country','neutral'])"
      ],
      "execution_count": null,
      "outputs": []
    }
  ]
}